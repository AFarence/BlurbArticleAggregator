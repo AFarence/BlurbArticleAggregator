{
 "cells": [
  {
   "cell_type": "code",
   "execution_count": 71,
   "id": "78d6f934",
   "metadata": {},
   "outputs": [],
   "source": [
    "import requests\n",
    "from bs4 import BeautifulSoup\n",
    "import re"
   ]
  },
  {
   "cell_type": "code",
   "execution_count": 72,
   "id": "c838fcfb",
   "metadata": {},
   "outputs": [],
   "source": [
    "url = 'https://www.boston.com/category/real-estate/?p1=header_mainnav'"
   ]
  },
  {
   "cell_type": "code",
   "execution_count": 73,
   "id": "04988853",
   "metadata": {},
   "outputs": [],
   "source": [
    "response = requests.get(url)"
   ]
  },
  {
   "cell_type": "code",
   "execution_count": 74,
   "id": "8a4ffd3d",
   "metadata": {},
   "outputs": [
    {
     "name": "stdout",
     "output_type": "stream",
     "text": [
      "Good!\n"
     ]
    }
   ],
   "source": [
    "if response.status_code == 200:\n",
    "    print('Good!')"
   ]
  },
  {
   "cell_type": "code",
   "execution_count": 181,
   "id": "f6408020",
   "metadata": {},
   "outputs": [
    {
     "name": "stdout",
     "output_type": "stream",
     "text": [
      "https://www.boston.com/real-estate/real-estate-news/2025/03/17/home-sellers-and-buyers-accuse-realtors-of-blocking-lower-fees/\n",
      "https://www.boston.com/real-estate/real-estate/2025/03/14/this-is-the-story-of-the-750000-beacon-hill-parking-spot/\n",
      "https://www.boston.com/real-estate/real-estate-news/2025/03/13/designs-revealed-for-18-story-apartment-towers-in-dorchester/\n",
      "https://www.boston.com/real-estate/home-of-the-week/2025/03/13/home-of-the-week-when-downsizing-is-a-day-at-the-beach/\n",
      "https://www.boston.com/real-estate/gardening/2025/03/13/ask-the-gardener-planting-thoughts-of-spring/\n",
      "https://www.boston.com/real-estate/local-news/2025/03/13/banking-on-a-silver-tsunami-of-baby-boomer-homes-to-hit-the-market-youll-be-waiting-a-while/\n",
      "https://www.boston.com/real-estate/real-estate-news/2025/03/12/recent-homes-sales-in-greater-boston-mar-12/\n",
      "https://www.boston.com/real-estate/home-buying/2025/01/21/how-to-come-up-with-down-payment-home/\n",
      "https://www.boston.com/real-estate/spring-house-hunt/2022/04/06/buying-a-condo-ask-about-association-finances/\n",
      "https://www.boston.com/real-estate/fall-house-hunt/2024/09/12/property-taxes-primer-for-homebuyers/\n",
      "https://www.boston.com/real-estate/real-estate-news/2025/02/26/luxury-home-at-risk-of-tumbling-into-cape-cod-bay-over-removal-dispute-is-demolished/\n",
      "https://www.boston.com/real-estate/luxury-homes/2025/02/12/brookline-estate-housed-refugees-luxury-home-week/\n",
      "https://www.boston.com/real-estate/luxury-homes/2025/02/06/judy-garlands-hyannis-port-rental-listed/\n",
      "https://www.boston.com/real-estate/luxury-homes/2025/02/04/scoring-chance-to-snap-up-former-bruins-condo/\n",
      "https://www.boston.com/real-estate/home-buying/2025/02/18/in-a-ranking-of-the-best-state-capitals-to-live-in-boston-gets-a-meh/\n",
      "https://www.boston.com/real-estate/real-estate/2025/03/11/mattapan-350-unit-building-will-be-converted-from-market-rate-to-affordable-housing/\n",
      "https://www.boston.com/real-estate/real-estate-news/2025/03/07/former-patriots-star-matthew-judon-home-listed-for-2-898-million/\n",
      "https://www.boston.com/real-estate/real-estate/2025/03/06/a-beverly-home-tied-to-the-salem-witch-trials-is-on-the-market-for-600000/\n",
      "https://www.boston.com/real-estate/home-improvement/2025/03/06/ask-the-remodeler-heat-pump-has-become-a-noisy-neighbor/\n",
      "https://www.boston.com/real-estate/gardening/2025/03/06/hey-gardeners-embrace-the-chaos/\n",
      "https://www.boston.com/real-estate/home-buying/2025/03/06/home-of-the-week-become-a-maine-iac-and-watch-the-waves/\n",
      "https://www.boston.com/real-estate/home-improvement/2025/03/06/reclaiming-every-nook-and-cranny/\n",
      "https://www.boston.com/real-estate/real-estate-news/2025/03/05/recent-homes-sales-in-greater-boston-mar-5/\n",
      "https://www.boston.com/real-estate/real-estate-news/2025/03/04/best-place-to-live-boston-magazine/\n",
      "https://www.boston.com/real-estate/real-estate-news/2025/02/28/iconic-newburyport-pink-house-to-be-demolished/\n"
     ]
    }
   ],
   "source": [
    "soup = BeautifulSoup(response.content, 'html.parser')\n",
    "links = soup.find_all('a', href=True)\n",
    "\n",
    "real_estate_pattern = re.compile(r\"real-estate\")\n",
    "date_pattern = re.compile(r\"/\\d{4}/\\d{2}/\\d{2}\")\n",
    "\n",
    "href_list = []\n",
    "\n",
    "for link in links:\n",
    "    href = link['href']\n",
    "    if real_estate_pattern.search(href) and date_pattern.search(href):\n",
    "        print(href)\n",
    "        href_list.append(href)\n"
   ]
  },
  {
   "cell_type": "code",
   "execution_count": 173,
   "id": "eb30b807",
   "metadata": {},
   "outputs": [],
   "source": [
    "# article_link = 'https://www.boston.com/real-estate/real-estate-news/2025/03/17/home-sellers-and-buyers-accuse-realtors-of-blocking-lower-fees/'\n",
    "# article_link = 'https://www.boston.com/real-estate/real-estate/2025/03/14/this-is-the-story-of-the-750000-beacon-hill-parking-spot/'\n",
    "# article_link = 'https://www.boston.com/real-estate/real-estate-news/2025/03/13/designs-revealed-for-18-story-apartment-towers-in-dorchester/'\n",
    "# article_link = 'https://www.boston.com/real-estate/home-of-the-week/2025/03/13/home-of-the-week-when-downsizing-is-a-day-at-the-beach/'\n"
   ]
  },
  {
   "cell_type": "code",
   "execution_count": 174,
   "id": "5eda3f11",
   "metadata": {},
   "outputs": [
    {
     "name": "stdout",
     "output_type": "stream",
     "text": [
      "Good!\n"
     ]
    }
   ],
   "source": [
    "article_response = requests.get(article_link)\n",
    "if article_response.status_code == 200:\n",
    "    print('Good!')"
   ]
  },
  {
   "cell_type": "code",
   "execution_count": 175,
   "id": "7c5f90ed",
   "metadata": {},
   "outputs": [],
   "source": [
    "article_soup = BeautifulSoup(article_response.content,'html.parser')"
   ]
  },
  {
   "cell_type": "code",
   "execution_count": 176,
   "id": "33780ec9",
   "metadata": {},
   "outputs": [
    {
     "data": {
      "text/plain": [
       "'Home of the Week: When downsizing is a day at the beach'"
      ]
     },
     "execution_count": 176,
     "metadata": {},
     "output_type": "execute_result"
    }
   ],
   "source": [
    "article_soup.find('h1').text.strip()"
   ]
  },
  {
   "cell_type": "code",
   "execution_count": 177,
   "id": "26c26ebe",
   "metadata": {},
   "outputs": [
    {
     "data": {
      "text/plain": [
       "'This 2 bedroom, 1 bath antique Winthrop house has modern amenities and a cozy ambience.'"
      ]
     },
     "execution_count": 177,
     "metadata": {},
     "output_type": "execute_result"
    }
   ],
   "source": [
    "article_soup.find('h2').text.strip()"
   ]
  },
  {
   "cell_type": "code",
   "execution_count": 178,
   "id": "ac563ea0",
   "metadata": {},
   "outputs": [
    {
     "data": {
      "text/plain": [
       "'March 13, 2025'"
      ]
     },
     "execution_count": 178,
     "metadata": {},
     "output_type": "execute_result"
    }
   ],
   "source": [
    "article_soup.find('time', class_='m-article-header__date').text.strip()"
   ]
  },
  {
   "cell_type": "code",
   "execution_count": 179,
   "id": "a23d91a0",
   "metadata": {},
   "outputs": [],
   "source": [
    "article = \"\\n\".join(p.get_text(strip=True) for p in article_soup.find_all('p'))"
   ]
  },
  {
   "cell_type": "code",
   "execution_count": 180,
   "id": "35f5cd23",
   "metadata": {},
   "outputs": [
    {
     "name": "stdout",
     "output_type": "stream",
     "text": [
      "By John R. Ellement, The Boston Globe\n",
      "\n",
      "31 River Road, Winthrop\n",
      "\n",
      "$615,000\n",
      "\n",
      "Style\n",
      "\n",
      "Year built1880\n",
      "\n",
      "Square feet968\n",
      "\n",
      "Bedrooms2\n",
      "\n",
      "Baths1 full\n",
      "\n",
      "Sewer/WaterPublic\n",
      "\n",
      "Taxes$5,229 (2025)\n",
      "\n",
      "Transitions are easier when the place where one arrives is nice and cozy. This home in coastal Winthrop’s Cottage Park neighborhood is the right size for anyone looking to downsize.\n",
      "\n",
      "For those looking to enjoy their leisure time, this antique home that’s been updated isless than a half-mile from the Winthrop Golf Clubandless than a mile from Winthrop Beach.\n",
      "\n",
      "From the driveway, a stairwell on the right side of the house leads up to the farmer’s porch, which is about 24 feet long and nearly 5 feet wide. The decking is composite.Under it is a sizablestorage area with a decorative panel door.\n",
      "\n",
      "\n",
      "The front door opens into the 88-square-foot foyer that includes a stairwell to the second floor on the right. Directly ahead is the kitchen, but a left turn is the right choice at this point. Moving through the doorway leads into the 149-square-foot living room.\n",
      "\n",
      "There are three double-hung windows on two exterior walls, white oak hardwood flooring (as in the foyer), and a cooling fan in the center of the ceiling. An accent wall is covered with wood-like paneling. A cast iron radiator is in one corner of the room, carrying warmth during the cold months through hot water/steam via a gas boiler.\n",
      "\n",
      "\n",
      "A wide opening leads into the dining room. It’s 136 square feet, and has thin crown molding with a wood-like appearance. There are two double-hung windows on the two exterior walls, hardwood flooring, and an antique period medallion as the central light fixture. The current owner has placed a table with seating for six. On the right side, there is a wide pass-through into the kitchen, and at the end of the room is a custom-built China cabinet that is original to the 145-year-old home.\n",
      "\n",
      "\n",
      "Kitchens are considered the heart of the home, and this iteration absolutely qualifies. It’s visible from the front foyer, can be entered from the driveway, and there’s a clear glass slider to the backyard.\n",
      "\n",
      "The kitchen’s 256 square feet is gallery style and hasSamsung stainless steel smart appliancesand white ceramic tile flooring. Entering from the foyer, two levels of wooden white cabinets appear on the right, with square white tiles for the backsplash that have black line cuts throughout. The counters are gray laminate. The sink is under a window, followed by the gas range, and above it, the microwave. There are barstools on the other side of the pass-through to the dining room that provides a casual bar eating area.\n",
      "\n",
      "\n",
      "\n",
      "The stairwell connects to the upper floor, the two bedrooms, and the full bath.\n",
      "\n",
      "The 39-square-foot updated bath uses sandy brown porcelain tile to create a welcoming environment that suggests a day at the beach, while a rectangular skylight provides sunny skies. A shower curtain guards the white porcelain tub and brown-toned backsplash. The oak natural wood-stained single vanityis topped by a white porcelain sink and counter.The porcelain tile flooring is beige with an Italian marble style.\n",
      "\n",
      "\n",
      "The two bedrooms are near mirror images of each other, although the primary is larger and has more windows.\n",
      "\n",
      "Located at the rear of the home, the primary is 239 square feet and features a large skylight with a curtain set into the cathedral ceiling. There is a large closet and double-hung windows on three exterior walls. The flooring is hardwood.\n",
      "\n",
      "\n",
      "The second bedroom is 165 square feet and also has a skylight. The closet has white bifold doors and a pair of double-hung windows in the front of the home.\n",
      "\n",
      "\n",
      "The basement is 442 square feet. It’s where the laundry area and storage are located.\n",
      "\n",
      "Paul J. Cervoneof Lamacchia Realty’s Woburn office has the listing. As of press time, an offer has been accepted on the property.\n",
      "\n",
      "John R. Ellement can be reached at[email protected].Follow him@JREbosglobe. Send listings to[email protected]. Please note: We do not feature unfurnished homes unless they are new-builds or gut renovations and will not respond to submissions we won’t pursue. Follow us on X@globehomes.\n",
      "\n",
      "©2025 Boston Globe Media Partners, LLC\n",
      "Stay up to date with everything Boston. Receive the latest news and breaking updates, straight from our newsroom to your inbox.\n",
      "\n"
     ]
    }
   ],
   "source": [
    "print(article)"
   ]
  }
 ],
 "metadata": {
  "kernelspec": {
   "display_name": "Python 3 (ipykernel)",
   "language": "python",
   "name": "python3"
  },
  "language_info": {
   "codemirror_mode": {
    "name": "ipython",
    "version": 3
   },
   "file_extension": ".py",
   "mimetype": "text/x-python",
   "name": "python",
   "nbconvert_exporter": "python",
   "pygments_lexer": "ipython3",
   "version": "3.9.12"
  }
 },
 "nbformat": 4,
 "nbformat_minor": 5
}
