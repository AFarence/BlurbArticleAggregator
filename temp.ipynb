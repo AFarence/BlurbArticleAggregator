{
 "cells": [
  {
   "cell_type": "code",
   "execution_count": 20,
   "id": "78d6f934",
   "metadata": {},
   "outputs": [],
   "source": [
    "import requests\n",
    "from bs4 import BeautifulSoup\n",
    "import re"
   ]
  },
  {
   "cell_type": "code",
   "execution_count": 2,
   "id": "c838fcfb",
   "metadata": {},
   "outputs": [],
   "source": [
    "url = 'https://www.bostonglobe.com/business/real-estate/'"
   ]
  },
  {
   "cell_type": "code",
   "execution_count": 3,
   "id": "04988853",
   "metadata": {},
   "outputs": [],
   "source": [
    "response = requests.get(url)"
   ]
  },
  {
   "cell_type": "code",
   "execution_count": 4,
   "id": "8a4ffd3d",
   "metadata": {},
   "outputs": [
    {
     "name": "stdout",
     "output_type": "stream",
     "text": [
      "Good!\n"
     ]
    }
   ],
   "source": [
    "if response.status_code == 200:\n",
    "    print('Good!')"
   ]
  },
  {
   "cell_type": "code",
   "execution_count": 9,
   "id": "84998203",
   "metadata": {},
   "outputs": [],
   "source": [
    "soup = BeautifulSoup(response.content,'html.parser')"
   ]
  },
  {
   "cell_type": "code",
   "execution_count": 11,
   "id": "236be52d",
   "metadata": {},
   "outputs": [],
   "source": [
    "links = soup.find_all('a',href=True)"
   ]
  },
  {
   "cell_type": "code",
   "execution_count": 21,
   "id": "78fd2ea4",
   "metadata": {},
   "outputs": [],
   "source": [
    "# Regular expression pattern to match /YYYY/MM/DD followed by any characters\n",
    "pattern = re.compile(r\"^/\\d{4}/\\d{2}/\\d{2}.*\")"
   ]
  },
  {
   "cell_type": "code",
   "execution_count": 22,
   "id": "58dee3eb",
   "metadata": {},
   "outputs": [
    {
     "data": {
      "text/plain": [
       "re.compile(r'^/\\d{4}/\\d{2}/\\d{2}.*', re.UNICODE)"
      ]
     },
     "execution_count": 22,
     "metadata": {},
     "output_type": "execute_result"
    }
   ],
   "source": [
    "pattern"
   ]
  },
  {
   "cell_type": "code",
   "execution_count": 23,
   "id": "f6408020",
   "metadata": {},
   "outputs": [
    {
     "name": "stdout",
     "output_type": "stream",
     "text": [
      "['/2025/03/14/business/boston-office-tower-sale-federal-street/', '/2025/03/14/business/beacon-hill-parking-spot-750000-boston/', '/2025/03/13/business/south-boston-public-housing-mccormack-redevelopment/', '/2025/03/12/business/formerly-homeless-find-new-home-jamaica-plain/', '/2025/03/11/business/boston-office-tower-auction/', '/2025/03/10/business/mattapan-apartment-complex-affordable/', '/2025/03/10/lifestyle/boston-luxury-towers-amenities-dog-spas-golf-simulator-indoor-pool/', '/2025/03/09/business/women-in-construction-week-boston/', '/2025/03/06/business/everett-boston-pumphouse-mystic-river-ferry-terminal/', '/2025/03/06/business/everett-boston-pumphouse-mystic-river-ferry-terminal/', '/2025/03/06/business/federal-buildings-trump-administration-non-core-sale-list/', '/2025/03/06/business/federal-buildings-trump-administration-non-core-sale-list/', '/2025/03/05/business/tariffs-housing-costs-lumber-construction/', '/2025/03/05/business/tariffs-housing-costs-lumber-construction/', '/2025/03/04/business/massachusetts-development-woburn-regional-transportation/', '/2025/03/04/business/massachusetts-development-woburn-regional-transportation/', '/2025/03/04/business/morrissey-boulevard-high-rise-towers/', '/2025/03/04/business/morrissey-boulevard-high-rise-towers/', '/2025/03/03/business/josh-kraft-michelle-wu-rent-control/', '/2025/03/03/business/josh-kraft-michelle-wu-rent-control/', '/2025/02/28/business/middleborough-lawsuit-state-housing-law/', '/2025/02/28/business/middleborough-lawsuit-state-housing-law/', '/2025/02/28/business/michelle-wu-white-stadium-revolution/', '/2025/02/28/business/michelle-wu-white-stadium-revolution/']\n"
     ]
    }
   ],
   "source": [
    "# Extract all <a> tags with href attributes that match the pattern\n",
    "article_links = [\n",
    "    a['href'] for a in soup.find_all('a', href=True)\n",
    "    if pattern.match(a['href'])\n",
    "]\n",
    "\n",
    "print(article_links)"
   ]
  },
  {
   "cell_type": "code",
   "execution_count": 26,
   "id": "a9e847b8",
   "metadata": {},
   "outputs": [],
   "source": [
    "full_links = []\n",
    "for link in article_links:\n",
    "    full_link = 'https://www.bostonglobe.com' + link\n",
    "    full_links.append(full_link)"
   ]
  },
  {
   "cell_type": "code",
   "execution_count": 49,
   "id": "5418ccee",
   "metadata": {},
   "outputs": [
    {
     "name": "stdout",
     "output_type": "stream",
     "text": [
      "https://www.bostonglobe.com/2025/03/06/business/everett-boston-pumphouse-mystic-river-ferry-terminal/\n"
     ]
    }
   ],
   "source": [
    "print(full_links[9])"
   ]
  },
  {
   "cell_type": "code",
   "execution_count": 65,
   "id": "eb30b807",
   "metadata": {},
   "outputs": [],
   "source": [
    "# article_link = 'https://www.bostonglobe.com/2025/03/14/business/boston-office-tower-sale-federal-street/'\n",
    "# article_link = 'https://www.bostonglobe.com/2025/03/12/business/formerly-homeless-find-new-home-jamaica-plain/'\n",
    "# article_link = 'https://www.bostonglobe.com/2025/03/09/business/women-in-construction-week-boston/'\n",
    "# article_link = 'https://www.bostonglobe.com/2025/03/06/business/everett-boston-pumphouse-mystic-river-ferry-terminal/'\n",
    "article_link = 'https://www.bostonglobe.com/2025/03/14/business/boston-office-tower-sale-federal-street/'"
   ]
  },
  {
   "cell_type": "code",
   "execution_count": 66,
   "id": "5eda3f11",
   "metadata": {},
   "outputs": [
    {
     "name": "stdout",
     "output_type": "stream",
     "text": [
      "Good!\n"
     ]
    }
   ],
   "source": [
    "article_response = requests.get(article_link)\n",
    "if article_response.status_code == 200:\n",
    "    print('Good!')"
   ]
  },
  {
   "cell_type": "code",
   "execution_count": 67,
   "id": "7c5f90ed",
   "metadata": {},
   "outputs": [],
   "source": [
    "article_soup = BeautifulSoup(article_response.content,'html.parser')"
   ]
  },
  {
   "cell_type": "code",
   "execution_count": 68,
   "id": "ff22befa",
   "metadata": {},
   "outputs": [
    {
     "data": {
      "text/plain": [
       "'In the latest test for Boston’s beleaguered office market, Rockpoint Group is preparing to put the two interconnected offices at 75-101 Federal St. in downtown Boston on the market in partnership with Wells Fargo, and is tapping brokerage Newmark to market the buildings for sale in the coming weeks, The Boston Globe has learned.Three real estate industry sources who spoke on condition of anonymity confirmed the pending listing. Rockpoint and Wells Fargo both declined to comment, while a representative for Newmark did not respond.The complex spans about 853,000 square feet and is about 71 percent occupied, according to data from real estate firm CoStar Group.Related: One of Boston’s skyline-defining towers is on the auction block — and expected to sell at a big discountThe pending sale comes amid a broad price reset for Boston’s office market, with a growing roster of towers going up for sale for the first time since the COVID-19 pandemic shook up demand for office space. Real estate experts expect downtown properties could be worth between 40 percent and 60 percent less than they were prior to the COVID-19 pandemic, and several recent sales bear out that thesis.Rockpoint Group has owned 75-101 Federal, at least in part, since 2015, when it purchased the conjoined offices for $326.5 million. Rockpoint sold a 50 percent stake in the buildings to Carr Properties in March 2020 — the very same week COVID was declared a national emergency — for about $185 more per square foot than it had paid five years previously. (Carr sold its stake back to Rockpoint last year for an undisclosed price). Also that week, Rockpoint and Carr finalized a $292 million mortgage with Wells Fargo, according to Suffolk County records, a mortgage with a maturity date of March 12, 2025.AdvertisementThe 75-101 Federal St. buildings have entrances on both Federal and Devonshire streets in downtown Boston. Here, one of the towers is reflected in the facade of 100 Federal St. David L. Ryan/Globe StaffThe brick and stone 75 Federal St. building dates to 1929 and was once described by the Boston Landmarks Commission as “the most elaborately decorative Art Deco skyscraper standing in Boston.” The 31-story tower at 101 Federal St. was built as an adjoining office in 1988. The towers are connected by a block-long lobby linking their two entrances — one on Federal Street, the other on Devonshire Street — that was renovated in 2016.AdvertisementTwo real estate industry sources said Rockpoint and Wells Fargo are working closely on the sale and collectively decided to bring Newmark’s capital markets team in to market the property. The 262,000-square-foot 75 Federal St. is 78 percent occupied, while the 591,000-square-foot 101 Federal St. is 64 percent occupied, according to CoStar.Related: Take a look at the first skyscraper proposed in downtown Boston since the pandemicIt’s not clear for how much the towers could sell. Several recent deals have seen properties trade at big discounts, with significant implications for both the city’s tax base and their owners’ balance sheets.For example, after purchasing 179 Lincoln St. near South Station in January 2020 for $155.7 million, a Blackstone entity sold the five-story building to Boston’s Synergy Investments last March for $76.5 million — a 51 percent price decline, according to research from Avison Young. Also last March, Synergy purchased 101 Arch St. in Downtown Crossing for $78 million — some 36 percent less than it sold for in 2005, and some $11 million less than the property had sold for in 2002.Catherine Carlock can be reached at catherine.carlock@globe.com. Follow her @bycathcarlock.'"
      ]
     },
     "execution_count": 68,
     "metadata": {},
     "output_type": "execute_result"
    }
   ],
   "source": [
    "article_soup.find(id='article-body').text.strip()"
   ]
  },
  {
   "cell_type": "code",
   "execution_count": 70,
   "id": "26c26ebe",
   "metadata": {},
   "outputs": [
    {
     "data": {
      "text/plain": [
       "'75-101 Federal St. is heading to the sale block as its mortgage comes due'"
      ]
     },
     "execution_count": 70,
     "metadata": {},
     "output_type": "execute_result"
    }
   ],
   "source": [
    "article_soup.find('h2').text.strip()"
   ]
  }
 ],
 "metadata": {
  "kernelspec": {
   "display_name": "Python 3 (ipykernel)",
   "language": "python",
   "name": "python3"
  },
  "language_info": {
   "codemirror_mode": {
    "name": "ipython",
    "version": 3
   },
   "file_extension": ".py",
   "mimetype": "text/x-python",
   "name": "python",
   "nbconvert_exporter": "python",
   "pygments_lexer": "ipython3",
   "version": "3.9.12"
  }
 },
 "nbformat": 4,
 "nbformat_minor": 5
}
